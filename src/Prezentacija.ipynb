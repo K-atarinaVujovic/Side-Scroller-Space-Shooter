{
 "cells": [
  {
   "cell_type": "markdown",
   "id": "c41f66b8-94d5-4666-8824-9c5527ad4a3e",
   "metadata": {},
   "source": [
    "# Side-Scroller Space Shooter\n",
    "\n",
    "Trenirani model koji igra video igru tipa side-scroller space shooter-a."
   ]
  },
  {
   "cell_type": "markdown",
   "id": "1a4e92f0-5a93-42f1-9eea-2cb1d99b94f6",
   "metadata": {},
   "source": [
    "## Bitne klase i funkcije"
   ]
  },
  {
   "cell_type": "markdown",
   "id": "1f534a65-1cdb-4a7c-bafb-c67ae63f1098",
   "metadata": {},
   "source": [
    "Klasa Game sadrži svu potrebnu logiku za video igru."
   ]
  },
  {
   "cell_type": "markdown",
   "id": "236686ce-46cd-46a4-8ce4-0dc91983614a",
   "metadata": {},
   "source": [
    "Klasa Environment modeluje gymnasium okruženje. "
   ]
  },
  {
   "cell_type": "markdown",
   "id": "9fbfcc0c-6e42-4590-a016-c18b82fb4033",
   "metadata": {},
   "source": [
    "Prostor akcija je definisan kao MultiBinary prostor sa 5 binarnih cifara:"
   ]
  },
  {
   "cell_type": "raw",
   "id": "19be4a88-775e-4075-aeb3-0108f63495b3",
   "metadata": {},
   "source": [
    "# Actions:\n",
    "# [up down left right shoot]\n",
    "self.action_space = gym.spaces.MultiBinary(5)"
   ]
  },
  {
   "cell_type": "markdown",
   "id": "6f697318-a415-4c90-b8fc-5fc2dcbed197",
   "metadata": {},
   "source": [
    "Prostor opservacije je definisan na sledeći način:"
   ]
  },
  {
   "cell_type": "raw",
   "id": "1780052a-efe6-4a99-a8d4-0479754abd74",
   "metadata": {},
   "source": [
    "\n",
    "self.observation_space = gym.spaces.Dict(\n",
    "    {\n",
    "        # Agent: centerx, centery\n",
    "        \"agent\": gym.spaces.Box(low=-1, high=1, shape=(2,)),\n",
    "        # Agent bullets: centerx, centery\n",
    "        \"agent_bullets\": gym.spaces.Box(low=-1, high=1, shape=(MAX_AGENT_BULLETS, 2)),\n",
    "        # Asteroid: centerx, centery\n",
    "        \"asteroids\": gym.spaces.Box(low=-1, high=1, shape=(MAX_ASTEROIDS, 2)),\n",
    "        # Enemy: centerx, centery\n",
    "        \"enemies\": gym.spaces.Box(low=-1, high=1, shape=(MAX_ENEMIES, 2)),\n",
    "        # Enemy bullets: centerx, centery\n",
    "        \"enemy_bullets\": gym.spaces.Box(low=-1, high=1, shape=(MAX_ENEMY_BULLETS, 2))\n",
    "    }\n",
    ")"
   ]
  },
  {
   "cell_type": "markdown",
   "id": "666bed33-5bfe-474a-8ae2-30612d5d9981",
   "metadata": {},
   "source": [
    "Sledeća funkcija definiše sistem nagrađivanja:"
   ]
  },
  {
   "cell_type": "raw",
   "id": "fd91cd24-9cf4-4856-81a4-04258938594f",
   "metadata": {},
   "source": [
    "def _calculate_reward(self, action):\n",
    "        \"\"\"Calculate reward.\n",
    "        \n",
    "        Rewards for shooting enemies and shooting close to enemies.\n",
    "        Punishes for standing still and losing the game.\n",
    "        \"\"\"\n",
    "        reward = 0\n",
    "        \n",
    "        # Reward for shooting enemy\n",
    "        if self.game.shot_enemy:\n",
    "            reward += 550.0\n",
    "\n",
    "        # Reward for bullet close to enemy\n",
    "        if self.game.enemy_bullets:\n",
    "            min_bullet_to_enemy_distance = self._get_min_bullet_to_enemy_distance()\n",
    "            normalized_distance = self._normalize(min_bullet_to_enemy_distance, 'd')\n",
    "            reward += 1.6 / (1 + normalized_distance)**2\n",
    "\n",
    "        # Punish for losing\n",
    "        if self.game.game_over:\n",
    "            reward -= 400.0\n",
    "\n",
    "        # Punish for being close to enemy\n",
    "        if self.game.enemy_sprites:\n",
    "            min_distance = self._get_player_to_group_distance(self.game.enemy_sprites)\n",
    "            normalized_distance = self._normalize(min_distance, 'd')\n",
    "            reward -= 0.5 / (1 + normalized_distance)**2\n",
    "\n",
    "        # Punish for being close to asteroid\n",
    "        if self.game.asteroid_sprites:\n",
    "            min_distance = self._get_player_to_group_distance(self.game.asteroid_sprites)\n",
    "            normalized_distance = self._normalize(min_distance, 'd')\n",
    "            reward -= 1.2 / (1 + normalized_distance)**2\n",
    "\n",
    "        # Punsh for being close to bullet\n",
    "        if self.game.enemy_bullets:\n",
    "            min_distance = self._get_player_to_group_distance(self.game.enemy_bullets)\n",
    "            normalized_distance = self._normalize(min_distance, 'd')\n",
    "            reward -= 1 / (1 + normalized_distance)**2\n",
    "\n",
    "        return reward"
   ]
  },
  {
   "cell_type": "markdown",
   "id": "6bcc555a-61a3-4934-a5d7-4ed94485f606",
   "metadata": {},
   "source": [
    "# Treniranje modela"
   ]
  },
  {
   "cell_type": "markdown",
   "id": "f96bfe6e-d48d-492e-a719-9af6feaaa321",
   "metadata": {},
   "source": [
    "Za treniranje modela koriste se sledeće biblioteke i funkcije:"
   ]
  },
  {
   "cell_type": "raw",
   "id": "aa4a059e-721a-4038-b8f2-a9b7f2ca2c32",
   "metadata": {},
   "source": [
    "from PPO.environment import Environment"
   ]
  },
  {
   "cell_type": "markdown",
   "id": "e4fdd4e1-da2a-46da-83dc-a2894e200a5b",
   "metadata": {},
   "source": [
    "PPO algoritam iz biblioteke stable-baselines3:"
   ]
  },
  {
   "cell_type": "raw",
   "id": "80d15bbf-e4fa-47d7-92bf-4b7be6c1fda7",
   "metadata": {},
   "source": [
    "from stable_baselines3 import PPO\n",
    "from stable_baselines3.common.monitor import Monitor"
   ]
  },
  {
   "cell_type": "markdown",
   "id": "4d83e557-a6bb-431b-8f93-737ff79c79c0",
   "metadata": {},
   "source": [
    "Pomoćne funkcije i biblioteke za pokretanje, izveštaje i proveravanje okruženja:"
   ]
  },
  {
   "cell_type": "raw",
   "id": "7df26d03-7a16-4140-b4dc-53d5fba7f3eb",
   "metadata": {},
   "source": [
    "from gymnasium.utils.env_checker import check_env\n",
    "from PPO.arguments import get_train_args\n",
    "import time\n",
    "import os"
   ]
  },
  {
   "cell_type": "markdown",
   "id": "8327d717-8b31-4296-a464-aae6f15ae66a",
   "metadata": {},
   "source": [
    "Funkcija koja vrši treniranje:"
   ]
  },
  {
   "cell_type": "raw",
   "id": "157e3060-3b55-49e1-a559-f6f2a1dddb95",
   "metadata": {},
   "source": [
    "def train(args):\n",
    "    timesteps, model_path, model_name, runs, dont_draw, v = _parse_args(args)\n",
    "\n",
    "    log_path = TENSORBOARD_PATH + model_name + \"/\"\n",
    "\n",
    "    if(dont_draw):\n",
    "        os.environ[\"SDL_VIDEODRIVER\"] = \"dummy\"\n",
    "\n",
    "    env = Monitor(Environment(v, dont_draw))\n",
    "\n",
    "    model = PPO(\"MultiInputPolicy\", env, verbose=1, tensorboard_log=log_path)\n",
    "\n",
    "    try:\n",
    "        model = model.load(model_path, env)\n",
    "    except:\n",
    "        print(\"Couldn't load, making new...\")       \n",
    "\n",
    "    # Start of training\n",
    "    start = time.time()\n",
    "    model.learn(total_timesteps=timesteps, tb_log_name=f\"run\", reset_num_timesteps=False)\n",
    "    model.save(model_path)\n",
    "\n",
    "    # End of training\n",
    "    elapsed_sec = time.time() - start\n",
    "    elapsed_min = elapsed_sec / 60\n",
    "    print(f\"{timesteps} steps took: {elapsed_min:.2f} minutes\")\n",
    "\n",
    "    # Log additional info\n",
    "    info = _get_reward_info(v)\n",
    "    with open(log_path + \"additional_info.txt\", \"w\") as f:\n",
    "        f.write(info)"
   ]
  },
  {
   "cell_type": "markdown",
   "id": "75ee9468-7b2f-4014-b37c-208eaf85a0eb",
   "metadata": {},
   "source": [
    "## Rezultat"
   ]
  },
  {
   "cell_type": "code",
   "execution_count": null,
   "id": "127084b8-7330-4ca8-8ff8-3098e2699285",
   "metadata": {},
   "outputs": [],
   "source": [
    "from PPO.environment import Environment\n",
    "from stable_baselines3 import PPO\n",
    "from stable_baselines3.common.monitor import Monitor\n",
    "from gymnasium.utils.env_checker import check_env\n",
    "from PPO.arguments import get_play_args\n",
    "\n",
    "MODELS_PATH = \"PPO/models/\"\n",
    "\n",
    "def play(args):\n",
    "    model_path = _parse_args(args)\n",
    "\n",
    "    env = Monitor(Environment())\n",
    "\n",
    "    model = PPO(\"MultiInputPolicy\", env, verbose=1)\n",
    "\n",
    "    try:\n",
    "        model = model.load(model_path, env)\n",
    "    except:\n",
    "        print(\"Error loading model\")\n",
    "        exit()       \n",
    "\n",
    "    obs, _ = env.reset()\n",
    "    while True:\n",
    "        action, _ = model.predict(obs)\n",
    "        obs, rewards, terminated, truncated, info = env.step(action)\n",
    "        if terminated or truncated:\n",
    "            obs, _ = env.reset()\n",
    "        # env.render()\n",
    "    \n",
    "\n",
    "def _parse_args(args):\n",
    "    if args.model == \"\":\n",
    "        model_path = MODELS_PATH + \"PPO_model\"\n",
    "    else:\n",
    "        model_path = MODELS_PATH + args.model\n",
    "\n",
    "    return model_path"
   ]
  },
  {
   "cell_type": "markdown",
   "id": "d3eb12b8-dfdb-43a1-91af-05e8c9353951",
   "metadata": {},
   "source": [
    "Model koji je nagrađivan prethodno navedenim sistemom nagrađivanja:"
   ]
  },
  {
   "cell_type": "code",
   "execution_count": null,
   "id": "d170e36c-e45b-4ecd-8618-95f506745604",
   "metadata": {},
   "outputs": [],
   "source": [
    "from types import SimpleNamespace\n",
    "\n",
    "args = SimpleNamespace(model=\"final\")\n",
    "play(args)"
   ]
  },
  {
   "cell_type": "markdown",
   "id": "e7720ea6-7cf1-4f67-8772-77c576d0e2d5",
   "metadata": {},
   "source": [
    "Model koji je bio pozitivno nagrađivan za ubijanje neprijatelja i pucanje blizu neprijatelja, i negativno nagrađivan za umiranje, bez ikakve negativne nagrade za prilazak drugim entitetima:"
   ]
  },
  {
   "cell_type": "code",
   "execution_count": null,
   "id": "ea61cb61-b4f0-47c7-b010-129b46b2d506",
   "metadata": {},
   "outputs": [],
   "source": [
    "args = SimpleNamespace(model=\"version_1\")\n",
    "play(args)"
   ]
  },
  {
   "cell_type": "markdown",
   "id": "fcc43284-ee89-4351-80f0-66121ed3dd63",
   "metadata": {},
   "source": [
    "## Tensorboard izveštaji"
   ]
  },
  {
   "cell_type": "markdown",
   "id": "d07553f1-03a2-4dc1-864a-74360fe80a27",
   "metadata": {},
   "source": [
    "Nakon ove komande, Tensorboard izveštaj je pokrenut na http://localhost:6006/?darkMode=true#timeseries"
   ]
  },
  {
   "cell_type": "code",
   "execution_count": null,
   "id": "076f825d-628f-45a6-b00c-3cf509203443",
   "metadata": {},
   "outputs": [],
   "source": [
    "!tensorboard --logdir PPO/tensorboard"
   ]
  }
 ],
 "metadata": {
  "kernelspec": {
   "display_name": "Python 3 (ipykernel)",
   "language": "python",
   "name": "python3"
  },
  "language_info": {
   "codemirror_mode": {
    "name": "ipython",
    "version": 3
   },
   "file_extension": ".py",
   "mimetype": "text/x-python",
   "name": "python",
   "nbconvert_exporter": "python",
   "pygments_lexer": "ipython3",
   "version": "3.13.0"
  }
 },
 "nbformat": 4,
 "nbformat_minor": 5
}
